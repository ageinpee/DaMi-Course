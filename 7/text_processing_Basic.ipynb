{
 "cells": [
  {
   "cell_type": "code",
   "execution_count": 124,
   "metadata": {},
   "outputs": [],
   "source": [
    "from sklearn.datasets import fetch_20newsgroups\n",
    "from sklearn.feature_extraction.text import CountVectorizer\n",
    "from sklearn.feature_extraction.text import TfidfTransformer\n",
    "from sklearn import metrics\n",
    "import numpy as np\n",
    "from sklearn.linear_model import LogisticRegression #IMPORT YOUR CLASSIFIER\n",
    "from sklearn.ensemble import RandomForestClassifier"
   ]
  },
  {
   "cell_type": "code",
   "execution_count": 125,
   "metadata": {},
   "outputs": [],
   "source": [
    "news_train_data = fetch_20newsgroups(subset='train', shuffle=True, random_state=42)"
   ]
  },
  {
   "cell_type": "code",
   "execution_count": 126,
   "metadata": {},
   "outputs": [
    {
     "data": {
      "text/plain": [
       "['alt.atheism',\n",
       " 'comp.graphics',\n",
       " 'comp.os.ms-windows.misc',\n",
       " 'comp.sys.ibm.pc.hardware',\n",
       " 'comp.sys.mac.hardware',\n",
       " 'comp.windows.x',\n",
       " 'misc.forsale',\n",
       " 'rec.autos',\n",
       " 'rec.motorcycles',\n",
       " 'rec.sport.baseball',\n",
       " 'rec.sport.hockey',\n",
       " 'sci.crypt',\n",
       " 'sci.electronics',\n",
       " 'sci.med',\n",
       " 'sci.space',\n",
       " 'soc.religion.christian',\n",
       " 'talk.politics.guns',\n",
       " 'talk.politics.mideast',\n",
       " 'talk.politics.misc',\n",
       " 'talk.religion.misc']"
      ]
     },
     "execution_count": 126,
     "metadata": {},
     "output_type": "execute_result"
    }
   ],
   "source": [
    "# targets are the topics or categories of this text corpus\n",
    "news_train_data.target_names"
   ]
  },
  {
   "cell_type": "code",
   "execution_count": 127,
   "metadata": {},
   "outputs": [
    {
     "data": {
      "text/plain": [
       "array([ 7,  4,  4,  1, 14, 16, 13,  3,  2,  4])"
      ]
     },
     "execution_count": 127,
     "metadata": {},
     "output_type": "execute_result"
    }
   ],
   "source": [
    "# but labels need to be machine-readable; here (exemplary): the index of the category name\n",
    "news_train_data.target[:10]"
   ]
  },
  {
   "cell_type": "code",
   "execution_count": 128,
   "metadata": {},
   "outputs": [],
   "source": [
    "y_train=news_train_data.target"
   ]
  },
  {
   "cell_type": "code",
   "execution_count": 129,
   "metadata": {},
   "outputs": [],
   "source": [
    "# What is this function doing? What are its arguments?\n",
    "count_vect = CountVectorizer()\n",
    "X_train_counts = count_vect.fit_transform(news_train_data.data)"
   ]
  },
  {
   "cell_type": "code",
   "execution_count": 130,
   "metadata": {},
   "outputs": [],
   "source": [
    "# Then transform the data using tf-id; do you know what it is?\n",
    "tfidf_transformer = TfidfTransformer()\n",
    "X_train_tfidf = tfidf_transformer.fit_transform(X_train_counts)"
   ]
  },
  {
   "cell_type": "code",
   "execution_count": 131,
   "metadata": {},
   "outputs": [],
   "source": [
    "# Alternatively, instead of doing all steps individually, you can also create a so called 'pipeline' (see scikit docs)\n",
    "# This way, you simply define all preprocessing steps and a classifier, as shown below (names are arbitrary)\n",
    "from sklearn.pipeline import Pipeline\n",
    "text_clf = Pipeline([\n",
    "     ('vect', CountVectorizer()),\n",
    "        ('tfidf', TfidfTransformer()),\n",
    "     ('clf', LogisticRegression()),\n",
    " ])  "
   ]
  },
  {
   "cell_type": "code",
   "execution_count": 132,
   "metadata": {},
   "outputs": [],
   "source": [
    "# Remember from the DAMI 4 tutorial that first you have to 'train' the classifier \n"
   ]
  },
  {
   "cell_type": "code",
   "execution_count": 133,
   "metadata": {},
   "outputs": [
    {
     "data": {
      "text/plain": [
       "0.8279341476367499"
      ]
     },
     "execution_count": 133,
     "metadata": {},
     "output_type": "execute_result"
    }
   ],
   "source": [
    "# Then use a test set to evaluate the quality of your classifier on a test set (here: function call 'predict')\n",
    "text_clf.fit(news_train_data.data, y_train)\n",
    "\n",
    "twenty_test_data = fetch_20newsgroups(subset='test', shuffle=True, random_state=42) #get the test data\n",
    "X_test = twenty_test_data.data\n",
    "y_test= twenty_test_data.target\n",
    "y_pred = text_clf.predict(X_test)\n",
    "\n",
    "# get the mean accuracy\n",
    "np.mean(y_pred == y_test)"
   ]
  },
  {
   "cell_type": "code",
   "execution_count": 134,
   "metadata": {},
   "outputs": [
    {
     "name": "stdout",
     "output_type": "stream",
     "text": [
      "                          precision    recall  f1-score   support\n",
      "\n",
      "             alt.atheism       0.80      0.74      0.77       319\n",
      "           comp.graphics       0.69      0.78      0.74       389\n",
      " comp.os.ms-windows.misc       0.76      0.75      0.75       394\n",
      "comp.sys.ibm.pc.hardware       0.73      0.72      0.72       392\n",
      "   comp.sys.mac.hardware       0.81      0.83      0.82       385\n",
      "          comp.windows.x       0.83      0.74      0.78       395\n",
      "            misc.forsale       0.76      0.90      0.83       390\n",
      "               rec.autos       0.91      0.89      0.90       396\n",
      "         rec.motorcycles       0.94      0.95      0.94       398\n",
      "      rec.sport.baseball       0.87      0.93      0.90       397\n",
      "        rec.sport.hockey       0.94      0.96      0.95       399\n",
      "               sci.crypt       0.93      0.89      0.91       396\n",
      "         sci.electronics       0.76      0.78      0.77       393\n",
      "                 sci.med       0.89      0.84      0.86       396\n",
      "               sci.space       0.89      0.92      0.91       394\n",
      "  soc.religion.christian       0.79      0.93      0.85       398\n",
      "      talk.politics.guns       0.71      0.90      0.80       364\n",
      "   talk.politics.mideast       0.96      0.89      0.92       376\n",
      "      talk.politics.misc       0.79      0.58      0.67       310\n",
      "      talk.religion.misc       0.83      0.45      0.59       251\n",
      "\n",
      "                accuracy                           0.83      7532\n",
      "               macro avg       0.83      0.82      0.82      7532\n",
      "            weighted avg       0.83      0.83      0.83      7532\n",
      "\n"
     ]
    }
   ],
   "source": [
    "# Remember from DAMI 4 tutorials that you can get a more thorough evaluation (classification report)\n",
    "print(metrics.classification_report(y_test, y_pred, target_names=twenty_test_data.target_names))"
   ]
  },
  {
   "cell_type": "code",
   "execution_count": 135,
   "metadata": {},
   "outputs": [],
   "source": [
    "#for multi-class problems use a confusion matrix\n",
    "\n",
    "\n",
    "# more sophisticated visualisation\n",
    "import matplotlib.pyplot as plt\n"
   ]
  }
 ],
 "metadata": {
  "kernelspec": {
   "display_name": "Python 3",
   "language": "python",
   "name": "python3"
  },
  "language_info": {
   "codemirror_mode": {
    "name": "ipython",
    "version": 3
   },
   "file_extension": ".py",
   "mimetype": "text/x-python",
   "name": "python",
   "nbconvert_exporter": "python",
   "pygments_lexer": "ipython3",
   "version": "3.6.8"
  }
 },
 "nbformat": 4,
 "nbformat_minor": 2
}
